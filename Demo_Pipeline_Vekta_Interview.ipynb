{
  "cells": [
    {
      "cell_type": "raw",
      "metadata": {
        "vscode": {
          "languageId": "raw"
        }
      },
      "source": [
        "# 🚴 Demo Pipeline Vekta - Entretien Technique\n",
        "\n",
        "## Objectif\n",
        "Démonstration des **concepts clés** du pipeline de génération de séances d'entraînement cycliste Vekta :\n",
        "\n",
        "1. **NLU Robuste** - Compréhension langage familier + fautes\n",
        "2. **Pipeline RAG** - Recherche sémantique dans corpus structuré\n",
        "3. **Validation Stricte** - Reproduction comportement production\n",
        "4. **Output Fidèle** - Génération fichiers .zwo compatibles Zwift\n",
        "\n",
        "---\n",
        "\n",
        "### 🎯 Approche Production Observée\n",
        "**Vekta en production utilise :**\n",
        "- **NLU très robuste** : fautes, synonymes (\"Endurance\" → aerobic, \"Sweet spot\" → tempo)\n",
        "- **Gestion intelligente des manquements** : \"Open duration\" + defaults aerobic\n",
        "- **Erreurs explicites** pour informations critiques manquantes\n",
        "- **Priorité absolue** : fidélité de l'output .zwo\n"
      ]
    },
    {
      "cell_type": "raw",
      "metadata": {
        "vscode": {
          "languageId": "raw"
        }
      },
      "source": [
        "## 1. 🧠 NLU : Compréhension Langage Naturel\n",
        "\n",
        "### Correction Orthographique Spécialisée Cyclisme\n"
      ]
    },
    {
      "cell_type": "code",
      "execution_count": null,
      "metadata": {},
      "outputs": [],
      "source": [
        "# Import du système (simplifié pour demo)\n",
        "import re\n",
        "from typing import Tuple, List\n",
        "\n",
        "class CyclingSpellChecker:\n",
        "    \"\"\"Correcteur orthographique spécialisé cyclisme - Demo Version\"\"\"\n",
        "    \n",
        "    def __init__(self):\n",
        "        # Corrections observées en production Vekta\n",
        "        self.corrections = {\n",
        "            # Familier → Technique (comme production)\n",
        "            'fond': 'VO2max', 'max': 'VO2max', 'a fond': 'VO2max',\n",
        "            'seuille': 'seuil', 'chaude': 'echauffement', 'chauffe': 'echauffement',\n",
        "            'cool down': 'retour au calme', 'set': 'series', 'sets': 'series',\n",
        "            'repos': 'recuperation', 'pause': 'recuperation',\n",
        "            \n",
        "            # Fautes courantes\n",
        "            'doie': 'dois', 'minut': 'minutes', 'mn': 'minutes',\n",
        "            'avk': 'avec', 'apres': 'après'\n",
        "        }\n",
        "    \n",
        "    def correct_text(self, text: str) -> Tuple[str, List[str]]:\n",
        "        \"\"\"Corrige le texte avec retour des corrections appliquées\"\"\"\n",
        "        corrected = text.lower()\n",
        "        corrections_applied = []\n",
        "        \n",
        "        for wrong, correct in self.corrections.items():\n",
        "            if wrong in corrected:\n",
        "                corrected = corrected.replace(wrong, correct)\n",
        "                corrections_applied.append(f\"'{wrong}' → '{correct}'\")\n",
        "        \n",
        "        return corrected, corrections_applied\n",
        "\n",
        "# Test avec phrase familière typique\n",
        "spell_checker = CyclingSpellChecker()\n",
        "\n",
        "test_query = \"je doie faire 10 minut de chaude, apres 3 set de 5 mn a fond avk 2 mn repos\"\n",
        "print(f\"🎯 REQUÊTE ORIGINALE:\")\n",
        "print(f\"   '{test_query}'\")\n",
        "print()\n",
        "\n",
        "corrected_text, corrections = spell_checker.correct_text(test_query)\n",
        "print(f\"✅ APRÈS CORRECTION ({len(corrections)} corrections):\")\n",
        "print(f\"   '{corrected_text}'\")\n",
        "print()\n",
        "print(f\"🔧 CORRECTIONS APPLIQUÉES:\")\n",
        "for correction in corrections:\n",
        "    print(f\"   • {correction}\")\n"
      ]
    }
  ],
  "metadata": {
    "language_info": {
      "name": "python"
    }
  },
  "nbformat": 4,
  "nbformat_minor": 2
}
