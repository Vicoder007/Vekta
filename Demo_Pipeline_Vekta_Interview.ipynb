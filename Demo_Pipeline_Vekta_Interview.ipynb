{
  "cells": [
    {
      "cell_type": "raw",
      "metadata": {
        "vscode": {
          "languageId": "raw"
        }
      },
      "source": [
        "# Pipeline Demo Vekta - Architecture Hybride\n",
        "\n",
        "Demo simplifiée pour entretien technique\n"
      ]
    },
    {
      "cell_type": "code",
      "execution_count": 9,
      "metadata": {},
      "outputs": [
        {
          "name": "stdout",
          "output_type": "stream",
          "text": [
            "Imports OK\n"
          ]
        }
      ],
      "source": [
        "# Setup et imports\n",
        "import re\n",
        "import json\n",
        "from typing import Dict, List, Any, Optional, Tuple\n",
        "from datetime import datetime\n",
        "import time\n",
        "\n",
        "print(\"Imports OK\")\n"
      ]
    },
    {
      "cell_type": "raw",
      "metadata": {
        "vscode": {
          "languageId": "raw"
        }
      },
      "source": [
        "## 1. Parseur Structurel - Coeur du Système\n"
      ]
    },
    {
      "cell_type": "code",
      "execution_count": 10,
      "metadata": {},
      "outputs": [
        {
          "name": "stdout",
          "output_type": "stream",
          "text": [
            "Parser initialisé\n"
          ]
        }
      ],
      "source": [
        "class VektaParser:\n",
        "    \"\"\"Parseur structurel inspiré de l'architecture Vekta observée\"\"\"\n",
        "    \n",
        "    def __init__(self):\n",
        "        # Patterns numériques ultra-précis\n",
        "        self.duration_patterns = {\n",
        "            'hours_min_sec': r'(\\d+)h(\\d+)min(\\d+)s',\n",
        "            'min_sec': r'(\\d+)min(\\d+)s',\n",
        "            'hours_min': r'(\\d+)h(\\d+)min',\n",
        "            'minutes': r'(\\d+)\\s*min',\n",
        "            'seconds': r'(\\d+)\\s*s(?:ec)?',\n",
        "            'hours': r'(\\d+)\\s*h(?:eure)?s?'\n",
        "        }\n",
        "        \n",
        "        self.power_patterns = {\n",
        "            'ftp_decimal': r'(\\d+(?:\\.\\d+)?)%\\s*ftp',\n",
        "            'ftp_int': r'(\\d+)%\\s*ftp',\n",
        "            'watts': r'(\\d+)\\s*w(?:atts)?'\n",
        "        }\n",
        "        \n",
        "        self.structure_patterns = {\n",
        "            'repetitions': r'(\\d+)\\s*x\\s*([^,]+)',\n",
        "            'alternance': r'alternance\\s+(\\d+\\w+)\\s+entre\\s+(\\d+%?)\\s+et\\s+(\\d+%?)\\s+pendant\\s+(\\d+\\w+)',\n",
        "            'progression': r'progression\\s+(\\w+)[:.]\\s*([^.]+)',\n",
        "            'spirale': r'spirale[:.]\\s*([^.]+)'\n",
        "        }\n",
        "    \n",
        "    def parse_query(self, query: str) -> Dict[str, Any]:\n",
        "        \"\"\"Parsing principal avec score de complétude\"\"\"\n",
        "        query_lower = query.lower()\n",
        "        \n",
        "        result = {\n",
        "            'durations': self._extract_durations(query_lower),\n",
        "            'powers': self._extract_powers(query_lower),\n",
        "            'structure': self._extract_structure(query_lower),\n",
        "            'completeness_score': 0.0,\n",
        "            'parse_time_ms': 0.0\n",
        "        }\n",
        "        \n",
        "        # Calcul score complétude (logique Vekta)\n",
        "        score = 0.0\n",
        "        if result['durations']: score += 0.4\n",
        "        if result['powers']: score += 0.4\n",
        "        if result['structure']: score += 0.2\n",
        "        \n",
        "        result['completeness_score'] = score\n",
        "        \n",
        "        return result\n",
        "    \n",
        "    def _extract_durations(self, text: str) -> List[Dict]:\n",
        "        durations = []\n",
        "        for pattern_name, pattern in self.duration_patterns.items():\n",
        "            matches = re.finditer(pattern, text)\n",
        "            for match in matches:\n",
        "                if pattern_name == 'min_sec':\n",
        "                    minutes, seconds = match.groups()\n",
        "                    total_seconds = int(minutes) * 60 + int(seconds)\n",
        "                    durations.append({\n",
        "                        'type': 'min_sec',\n",
        "                        'minutes': int(minutes),\n",
        "                        'seconds': int(seconds),\n",
        "                        'total_seconds': total_seconds,\n",
        "                        'text': match.group(0)\n",
        "                    })\n",
        "        return durations\n",
        "    \n",
        "    def _extract_powers(self, text: str) -> List[Dict]:\n",
        "        powers = []\n",
        "        for pattern_name, pattern in self.power_patterns.items():\n",
        "            matches = re.finditer(pattern, text)\n",
        "            for match in matches:\n",
        "                power_val = float(match.group(1))\n",
        "                powers.append({\n",
        "                    'type': pattern_name,\n",
        "                    'value': power_val,\n",
        "                    'text': match.group(0)\n",
        "                })\n",
        "        return powers\n",
        "    \n",
        "    def _extract_structure(self, text: str) -> Dict:\n",
        "        structure = {}\n",
        "        \n",
        "        # Répétitions simples\n",
        "        rep_match = re.search(self.structure_patterns['repetitions'], text)\n",
        "        if rep_match:\n",
        "            structure['type'] = 'repetitions'\n",
        "            structure['count'] = int(rep_match.group(1))\n",
        "            structure['element'] = rep_match.group(2)\n",
        "        \n",
        "        # Alternances avec calcul automatique\n",
        "        alt_match = re.search(self.structure_patterns['alternance'], text)\n",
        "        if alt_match:\n",
        "            duration_text, power1, power2, total_time = alt_match.groups()\n",
        "            \n",
        "            # Extraction durée élémentaire\n",
        "            duration_match = re.search(r'(\\d+)([sm])', duration_text)\n",
        "            if duration_match:\n",
        "                value, unit = duration_match.groups()\n",
        "                element_seconds = int(value) * (60 if unit == 'm' else 1)\n",
        "                \n",
        "                # Extraction durée totale\n",
        "                total_match = re.search(r'(\\d+)([smh])', total_time)\n",
        "                if total_match:\n",
        "                    total_val, total_unit = total_match.groups()\n",
        "                    multiplier = {'s': 1, 'm': 60, 'h': 3600}[total_unit]\n",
        "                    total_seconds = int(total_val) * multiplier\n",
        "                    \n",
        "                    # Calcul automatique répétitions\n",
        "                    repetitions = total_seconds // element_seconds\n",
        "                    \n",
        "                    structure['type'] = 'alternance'\n",
        "                    structure['element_duration'] = element_seconds\n",
        "                    structure['power_range'] = [power1, power2]\n",
        "                    structure['calculated_reps'] = repetitions\n",
        "                    structure['total_duration'] = total_seconds\n",
        "        \n",
        "        return structure\n",
        "\n",
        "# Test instantané\n",
        "parser = VektaParser()\n",
        "print(\"Parser initialisé\")\n"
      ]
    },
    {
      "cell_type": "raw",
      "metadata": {
        "vscode": {
          "languageId": "raw"
        }
      },
      "source": [
        "## 2. Test Parsing Précision Numérique\n"
      ]
    },
    {
      "cell_type": "code",
      "execution_count": 11,
      "metadata": {},
      "outputs": [
        {
          "name": "stdout",
          "output_type": "stream",
          "text": [
            "=== TESTS PRECISION NUMERIQUE ===\n",
            "\n",
            "Test 1: 13x4min33s à 87.3%FTP avec 2min47s récup\n",
            "Score: 1.00\n",
            "Parse time: 0.0ms\n",
            "Durées: [{'type': 'min_sec', 'minutes': 4, 'seconds': 33, 'total_seconds': 273, 'text': '4min33s'}, {'type': 'min_sec', 'minutes': 2, 'seconds': 47, 'total_seconds': 167, 'text': '2min47s'}]\n",
            "Puissances: [{'type': 'ftp_decimal', 'value': 87.3, 'text': '87.3%ftp'}, {'type': 'ftp_int', 'value': 3.0, 'text': '3%ftp'}]\n",
            "Structure: {'type': 'repetitions', 'count': 13, 'element': '4min33s à 87.3%ftp avec 2min47s récup'}\n",
            "\n",
            "Test 2: Alternance 47s entre 103% et 91%FTP pendant 23min\n",
            "Score: 0.40\n",
            "Parse time: 0.0ms\n",
            "Durées: []\n",
            "Puissances: [{'type': 'ftp_decimal', 'value': 91.0, 'text': '91%ftp'}, {'type': 'ftp_int', 'value': 91.0, 'text': '91%ftp'}]\n",
            "\n",
            "Test 3: 6 heures à 130%FTP sans pause\n",
            "Score: 0.40\n",
            "Parse time: 0.0ms\n",
            "Durées: []\n",
            "Puissances: [{'type': 'ftp_decimal', 'value': 130.0, 'text': '130%ftp'}, {'type': 'ftp_int', 'value': 130.0, 'text': '130%ftp'}]\n"
          ]
        }
      ],
      "source": [
        "# Test cas Vekta réels observés\n",
        "test_queries = [\n",
        "    \"13x4min33s à 87.3%FTP avec 2min47s récup\",\n",
        "    \"Alternance 47s entre 103% et 91%FTP pendant 23min\",\n",
        "    \"6 heures à 130%FTP sans pause\"\n",
        "]\n",
        "\n",
        "print(\"=== TESTS PRECISION NUMERIQUE ===\")\n",
        "for i, query in enumerate(test_queries, 1):\n",
        "    start_time = time.time()\n",
        "    result = parser.parse_query(query)\n",
        "    parse_time = (time.time() - start_time) * 1000\n",
        "    \n",
        "    print(f\"\\nTest {i}: {query}\")\n",
        "    print(f\"Score: {result['completeness_score']:.2f}\")\n",
        "    print(f\"Parse time: {parse_time:.1f}ms\")\n",
        "    print(f\"Durées: {result['durations']}\")\n",
        "    print(f\"Puissances: {result['powers']}\")\n",
        "    if result['structure']:\n",
        "        print(f\"Structure: {result['structure']}\")\n"
      ]
    },
    {
      "cell_type": "raw",
      "metadata": {
        "vscode": {
          "languageId": "raw"
        }
      },
      "source": [
        "## 3. Générateur Séances Structurel\n"
      ]
    },
    {
      "cell_type": "code",
      "execution_count": 12,
      "metadata": {},
      "outputs": [
        {
          "name": "stdout",
          "output_type": "stream",
          "text": [
            "Générateur initialisé\n"
          ]
        }
      ],
      "source": [
        "class WorkoutGenerator:\n",
        "    \"\"\"Générateur basé sur parsing structurel\"\"\"\n",
        "    \n",
        "    def generate_from_parsed(self, parsed_data: Dict, mode: str = \"user\") -> Dict:\n",
        "        \"\"\"Génération directe depuis données parsées\"\"\"\n",
        "        \n",
        "        workout = {\n",
        "            'metadata': {\n",
        "                'generation_method': 'structural_parsing',\n",
        "                'mode': mode,\n",
        "                'confidence': self._calculate_confidence(parsed_data, mode),\n",
        "                'created_at': datetime.now().isoformat()\n",
        "            },\n",
        "            'steps': []\n",
        "        }\n",
        "        \n",
        "        # Génération basée sur structure détectée\n",
        "        if parsed_data['structure']:\n",
        "            workout['steps'] = self._generate_structured_steps(parsed_data)\n",
        "        else:\n",
        "            workout['steps'] = self._generate_basic_steps(parsed_data)\n",
        "        \n",
        "        return workout\n",
        "    \n",
        "    def _calculate_confidence(self, parsed_data: Dict, mode: str) -> float:\n",
        "        \"\"\"Logique confiance type Vekta\"\"\"\n",
        "        if mode == \"coach\":\n",
        "            return 0.95  # Mode coach = confiance constante\n",
        "        \n",
        "        # Mode user = confiance basée parsing\n",
        "        base_score = parsed_data['completeness_score']\n",
        "        if base_score >= 0.9:\n",
        "            return 0.90\n",
        "        elif base_score >= 0.75:\n",
        "            return 0.75\n",
        "        else:\n",
        "            return 0.60\n",
        "    \n",
        "    def _generate_structured_steps(self, parsed_data: Dict) -> List[Dict]:\n",
        "        \"\"\"Génération pour structures complexes\"\"\"\n",
        "        structure = parsed_data['structure']\n",
        "        steps = []\n",
        "        \n",
        "        if structure['type'] == 'repetitions':\n",
        "            # Répétitions simples\n",
        "            for i in range(structure['count']):\n",
        "                steps.append({\n",
        "                    'type': 'work',\n",
        "                    'duration': parsed_data['durations'][0]['total_seconds'] if parsed_data['durations'] else 240,\n",
        "                    'power_percent': parsed_data['powers'][0]['value'] if parsed_data['powers'] else 85,\n",
        "                    'description': f\"Répétition {i+1}\"\n",
        "                })\n",
        "                \n",
        "                # Récupération entre répétitions (sauf dernière)\n",
        "                if i < structure['count'] - 1:\n",
        "                    steps.append({\n",
        "                        'type': 'recovery',\n",
        "                        'duration': 120,  # 2min par défaut\n",
        "                        'power_percent': 50,\n",
        "                        'description': 'Récupération'\n",
        "                    })\n",
        "        \n",
        "        elif structure['type'] == 'alternance':\n",
        "            # Alternances calculées automatiquement\n",
        "            power_values = [float(p.rstrip('%')) for p in structure['power_range']]\n",
        "            \n",
        "            for i in range(int(structure['calculated_reps'])):\n",
        "                power = power_values[i % 2]  # Alternance entre les 2 valeurs\n",
        "                steps.append({\n",
        "                    'type': 'work',\n",
        "                    'duration': structure['element_duration'],\n",
        "                    'power_percent': power,\n",
        "                    'description': f\"Alternance {i+1} - {power}%FTP\"\n",
        "                })\n",
        "        \n",
        "        return steps\n",
        "    \n",
        "    def _generate_basic_steps(self, parsed_data: Dict) -> List[Dict]:\n",
        "        \"\"\"Génération basique pour structures simples\"\"\"\n",
        "        steps = []\n",
        "        \n",
        "        duration = parsed_data['durations'][0]['total_seconds'] if parsed_data['durations'] else 1800\n",
        "        power = parsed_data['powers'][0]['value'] if parsed_data['powers'] else 75\n",
        "        \n",
        "        steps.append({\n",
        "            'type': 'main',\n",
        "            'duration': duration,\n",
        "            'power_percent': power,\n",
        "            'description': 'Effort principal'\n",
        "        })\n",
        "        \n",
        "        return steps\n",
        "\n",
        "generator = WorkoutGenerator()\n",
        "print(\"Générateur initialisé\")\n"
      ]
    },
    {
      "cell_type": "raw",
      "metadata": {
        "vscode": {
          "languageId": "raw"
        }
      },
      "source": [
        "## 4. Pipeline Hybride Complet\n"
      ]
    },
    {
      "cell_type": "code",
      "execution_count": 13,
      "metadata": {},
      "outputs": [
        {
          "name": "stdout",
          "output_type": "stream",
          "text": [
            "Pipeline validation Vekta prêt\n"
          ]
        }
      ],
      "source": [
        "class VektaValidationPipeline:\n",
        "    \"\"\"Pipeline validation simplifié reproduisant notre pipeline complet\"\"\"\n",
        "    \n",
        "    def __init__(self):\n",
        "        self.parser = VektaParser()\n",
        "        self.generator = WorkoutGenerator()\n",
        "        \n",
        "        # Corpus enrichissement (10% logique pipeline)\n",
        "        self.enrichment_corpus = [\n",
        "            {\"query\": \"tempo\", \"power\": 85, \"duration\": 1200},\n",
        "            {\"query\": \"seuil\", \"power\": 95, \"duration\": 900},\n",
        "            {\"query\": \"endurance\", \"power\": 65, \"duration\": 3600}\n",
        "        ]\n",
        "    \n",
        "    def validate_query(self, query: str, coach_mode: bool = False) -> Dict:\n",
        "        \"\"\"\n",
        "        Validation Vekta simplifiée - SANS validation physiologique\n",
        "        Reproduit exactement la logique de notre pipeline complet\n",
        "        \"\"\"\n",
        "        start_time = time.time()\n",
        "        \n",
        "        # 1. Parsing structurel primaire (90% de la logique)\n",
        "        parsed_data = self.parser.parse_query(query)\n",
        "        completeness = parsed_data['completeness_score']\n",
        "        \n",
        "        # 2. Logique de décision Vekta (3 niveaux)\n",
        "        if completeness >= 0.9:\n",
        "            # CAS 1: Auto-génération (>90% complétude)\n",
        "            return self._generate_from_structural_parsing(parsed_data, coach_mode, start_time)\n",
        "        \n",
        "        elif completeness >= 0.4:\n",
        "            # CAS 2: Mode \"Open Duration\" avec enrichissement corpus\n",
        "            return self._generate_with_corpus_validation(query, parsed_data, coach_mode, start_time)\n",
        "        \n",
        "        else:\n",
        "            # CAS 3: Informations critiques manquantes\n",
        "            return self._request_missing_information(parsed_data, start_time)\n",
        "    \n",
        "    def _generate_from_structural_parsing(self, parsed_data: Dict, coach_mode: bool, start_time: float) -> Dict:\n",
        "        \"\"\"Génération directe basée parsing structurel (confiance Vekta 95%)\"\"\"\n",
        "        \n",
        "        # Mode coach = confiance maximale constante (comportement Vekta observé)\n",
        "        confidence = 0.95 if coach_mode else 0.90\n",
        "        \n",
        "        workout = self.generator.generate_from_parsed(parsed_data, \"coach\" if coach_mode else \"user\")\n",
        "        \n",
        "        return {\n",
        "            'success': True,\n",
        "            'confidence': confidence,\n",
        "            'message': f\"Séance générée automatiquement (précision: {parsed_data['completeness_score']:.1%})\",\n",
        "            'status': 'structural_complete',\n",
        "            'workout': workout,\n",
        "            'mode': 'coach' if coach_mode else 'user',\n",
        "            'validation_method': 'structural_parsing_only',  # Pas de validation physio\n",
        "            'processing_time': (time.time() - start_time) * 1000\n",
        "        }\n",
        "    \n",
        "    def _generate_with_corpus_validation(self, query: str, parsed_data: Dict, coach_mode: bool, start_time: float) -> Dict:\n",
        "        \"\"\"Mode \"Open Duration\" avec enrichissement corpus (logique Vekta 60-90%)\"\"\"\n",
        "        \n",
        "        # Recherche enrichissement corpus\n",
        "        corpus_match = self._find_corpus_enrichment(query)\n",
        "        \n",
        "        # Enrichissement données manquantes\n",
        "        if corpus_match:\n",
        "            if not parsed_data['powers']:\n",
        "                parsed_data['powers'] = [{'value': corpus_match['power'], 'type': 'corpus_enriched'}]\n",
        "            if not parsed_data['durations']:\n",
        "                parsed_data['durations'] = [{'total_seconds': corpus_match['duration'], 'type': 'corpus_enriched'}]\n",
        "        \n",
        "        # Score hybride (parsing + corpus)\n",
        "        base_confidence = parsed_data['completeness_score']\n",
        "        corpus_boost = 0.1 if corpus_match else 0.0\n",
        "        hybrid_confidence = min(0.85, base_confidence + corpus_boost)\n",
        "        \n",
        "        # Mode coach boost confiance même avec parsing partiel\n",
        "        if coach_mode:\n",
        "            hybrid_confidence = max(0.90, hybrid_confidence)\n",
        "        \n",
        "        workout = self.generator.generate_from_parsed(parsed_data, \"coach\" if coach_mode else \"user\")\n",
        "        \n",
        "        return {\n",
        "            'success': True,\n",
        "            'confidence': hybrid_confidence,\n",
        "            'message': f\"Séance générée avec enrichissement corpus ({hybrid_confidence:.1%})\\n'Open duration' appliquée aux éléments non spécifiés\",\n",
        "            'status': 'hybrid_enriched',\n",
        "            'workout': workout,\n",
        "            'mode': 'coach' if coach_mode else 'user',\n",
        "            'validation_method': 'parsing_plus_corpus',  # Pas de validation physio\n",
        "            'corpus_enrichment': bool(corpus_match),\n",
        "            'processing_time': (time.time() - start_time) * 1000\n",
        "        }\n",
        "    \n",
        "    def _request_missing_information(self, parsed_data: Dict, start_time: float) -> Dict:\n",
        "        \"\"\"Messages d'erreur style Vekta (exactement comme pipeline complet)\"\"\"\n",
        "        \n",
        "        missing_elements = []\n",
        "        if not parsed_data['durations']:\n",
        "            missing_elements.append(\"la durée totale de la session\")\n",
        "        if not parsed_data['powers']:\n",
        "            missing_elements.append(\"les cibles d'intensité (zones de puissance ou valeurs %FTP)\")\n",
        "        if not parsed_data['structure']:\n",
        "            missing_elements.append(\"la structure de séance (échauffement, intervalles, récupération)\")\n",
        "        \n",
        "        # Message style Vekta observé en production\n",
        "        if len(missing_elements) >= 2:\n",
        "            message = \"The workout description is missing required information. Please specify: 1) The total duration of the session, 2) The specific workout structure (warm-up, intervals, recovery periods), and 3) The intensity targets for each segment.\"\n",
        "        else:\n",
        "            message = f\"Description incomplète. Manque: {', '.join(missing_elements)}\"\n",
        "        \n",
        "        return {\n",
        "            'success': False,\n",
        "            'confidence': parsed_data['completeness_score'],\n",
        "            'message': message,\n",
        "            'status': 'missing_critical_info',\n",
        "            'workout': None,\n",
        "            'missing_elements': missing_elements,\n",
        "            'validation_method': 'structural_parsing_insufficient',\n",
        "            'processing_time': (time.time() - start_time) * 1000\n",
        "        }\n",
        "    \n",
        "    def _find_corpus_enrichment(self, query: str) -> Optional[Dict]:\n",
        "        \"\"\"Recherche enrichissement dans corpus (logique simple)\"\"\"\n",
        "        query_lower = query.lower()\n",
        "        for item in self.enrichment_corpus:\n",
        "            if item[\"query\"] in query_lower:\n",
        "                return item\n",
        "        return None\n",
        "\n",
        "pipeline = VektaValidationPipeline()\n",
        "print(\"Pipeline validation Vekta prêt\")\n"
      ]
    },
    {
      "cell_type": "raw",
      "metadata": {
        "vscode": {
          "languageId": "raw"
        }
      },
      "source": [
        "## 5. Demo Live - Cas d'Usage Réels\n"
      ]
    },
    {
      "cell_type": "code",
      "execution_count": 14,
      "metadata": {},
      "outputs": [
        {
          "name": "stdout",
          "output_type": "stream",
          "text": [
            "=== DEMO VALIDATION VEKTA SIMPLIFIÉE ===\n",
            "\n",
            "--- Auto-génération Vekta ---\n",
            "Query: '5x8min à 92%FTP avec 3min récup'\n",
            "Mode: User\n",
            "✅ SUCCÈS: Séance générée avec enrichissement corpus (60.0%)\n",
            "'Open duration' appliquée aux éléments non spécifiés\n",
            "   Confiance: 60%\n",
            "   Status: hybrid_enriched\n",
            "   Méthode validation: parsing_plus_corpus\n",
            "   Steps générés: 9\n",
            "   Temps processing: 0.1ms\n",
            "\n",
            "--- Mode Open Duration ---\n",
            "Query: 'séance tempo de 45min'\n",
            "Mode: User\n",
            "❌ ERREUR: The workout description is missing required information. Please specify: 1) The total duration of the session, 2) The specific workout structure (warm-up, intervals, recovery periods), and 3) The intensity targets for each segment.\n",
            "   Confiance: 0%\n",
            "   Méthode validation: structural_parsing_insufficient\n",
            "   Temps processing: 0.0ms\n",
            "\n",
            "--- Mode Coach Expert ---\n",
            "Query: '6 heures à 130%FTP sans pause'\n",
            "Mode: Coach\n",
            "✅ SUCCÈS: Séance générée avec enrichissement corpus (90.0%)\n",
            "'Open duration' appliquée aux éléments non spécifiés\n",
            "   Confiance: 90%\n",
            "   Status: hybrid_enriched\n",
            "   Méthode validation: parsing_plus_corpus\n",
            "   Steps générés: 1\n",
            "   Temps processing: 0.0ms\n",
            "\n",
            "--- Informations Manquantes ---\n",
            "Query: 'faire du vélo'\n",
            "Mode: User\n",
            "❌ ERREUR: The workout description is missing required information. Please specify: 1) The total duration of the session, 2) The specific workout structure (warm-up, intervals, recovery periods), and 3) The intensity targets for each segment.\n",
            "   Confiance: 0%\n",
            "   Méthode validation: structural_parsing_insufficient\n",
            "   Temps processing: 0.0ms\n"
          ]
        }
      ],
      "source": [
        "# Demo validation Vekta simplifiée - reproduit pipeline complet\n",
        "demo_cases = [\n",
        "    # Cas 1: Parsing complet -> génération directe (>90% complétude)\n",
        "    {\n",
        "        \"name\": \"Auto-génération Vekta\",\n",
        "        \"query\": \"5x8min à 92%FTP avec 3min récup\",\n",
        "        \"coach_mode\": False\n",
        "    },\n",
        "    \n",
        "    # Cas 2: Parsing partiel -> enrichissement corpus (60-90% complétude)\n",
        "    {\n",
        "        \"name\": \"Mode Open Duration\",\n",
        "        \"query\": \"séance tempo de 45min\",\n",
        "        \"coach_mode\": False\n",
        "    },\n",
        "    \n",
        "    # Cas 3: Mode coach -> zero validation (comportement Vekta observé)\n",
        "    {\n",
        "        \"name\": \"Mode Coach Expert\",\n",
        "        \"query\": \"6 heures à 130%FTP sans pause\",\n",
        "        \"coach_mode\": True\n",
        "    },\n",
        "    \n",
        "    # Cas 4: Parsing insuffisant -> erreur style Vekta\n",
        "    {\n",
        "        \"name\": \"Informations Manquantes\",\n",
        "        \"query\": \"faire du vélo\",\n",
        "        \"coach_mode\": False\n",
        "    }\n",
        "]\n",
        "\n",
        "print(\"=== DEMO VALIDATION VEKTA SIMPLIFIÉE ===\")\n",
        "for case in demo_cases:\n",
        "    print(f\"\\n--- {case['name']} ---\")\n",
        "    print(f\"Query: '{case['query']}'\")\n",
        "    print(f\"Mode: {'Coach' if case['coach_mode'] else 'User'}\")\n",
        "    \n",
        "    start_time = time.time()\n",
        "    result = pipeline.validate_query(case['query'], coach_mode=case['coach_mode'])\n",
        "    process_time = (time.time() - start_time) * 1000\n",
        "    \n",
        "    if not result['success']:\n",
        "        print(f\"❌ ERREUR: {result['message']}\")\n",
        "        print(f\"   Confiance: {result['confidence']:.0%}\")\n",
        "        print(f\"   Méthode validation: {result['validation_method']}\")\n",
        "    else:\n",
        "        print(f\"✅ SUCCÈS: {result['message']}\")\n",
        "        print(f\"   Confiance: {result['confidence']:.0%}\")\n",
        "        print(f\"   Status: {result['status']}\")\n",
        "        print(f\"   Méthode validation: {result['validation_method']}\")\n",
        "        print(f\"   Steps générés: {len(result['workout']['steps'])}\")\n",
        "    \n",
        "    print(f\"   Temps processing: {process_time:.1f}ms\")\n"
      ]
    },
    {
      "cell_type": "raw",
      "metadata": {
        "vscode": {
          "languageId": "raw"
        }
      },
      "source": [
        "## 6. Analyse Performance\n"
      ]
    },
    {
      "cell_type": "code",
      "execution_count": 15,
      "metadata": {},
      "outputs": [
        {
          "name": "stdout",
          "output_type": "stream",
          "text": [
            "=== BENCHMARK VALIDATION PERFORMANCE ===\n",
            "✅ 0.0ms - 8x3min à 110%FTP avec 2min récup... [parsing_plus_corpus]\n",
            "✅ 0.0ms - 20min tempo à 85%FTP... [parsing_plus_corpus]\n",
            "✅ 0.0ms - Alternance 30s entre 120% et 60%FTP pend... [parsing_plus_corpus]\n",
            "✅ 0.0ms - endurance 2h à 65%FTP... [parsing_plus_corpus]\n",
            "❌ 0.0ms - pyramide 1-2-3-4-3-2-1min à intensité cr... [structural_parsing_insufficient]\n",
            "\n",
            "Statistiques Validation:\n",
            "Temps moyen: 0.0ms\n",
            "Taux succès: 80%\n",
            "Objectif Vekta (<100ms): ✓\n",
            "\n",
            "=== COMPARAISON MODES ===\n",
            "Query: '20min tempo à 85%FTP'\n",
            "Mode User:  50% confiance - parsing_plus_corpus\n",
            "Mode Coach: 90% confiance - parsing_plus_corpus\n",
            "Boost coach: +40 points\n"
          ]
        }
      ],
      "source": [
        "# Benchmark validation - reproduction pipeline complet\n",
        "test_queries_perf = [\n",
        "    \"8x3min à 110%FTP avec 2min récup\",\n",
        "    \"20min tempo à 85%FTP\", \n",
        "    \"Alternance 30s entre 120% et 60%FTP pendant 15min\",\n",
        "    \"endurance 2h à 65%FTP\",\n",
        "    \"pyramide 1-2-3-4-3-2-1min à intensité croissante\"\n",
        "]\n",
        "\n",
        "print(\"=== BENCHMARK VALIDATION PERFORMANCE ===\")\n",
        "total_time = 0\n",
        "successful_validations = 0\n",
        "\n",
        "for query in test_queries_perf:\n",
        "    start = time.time()\n",
        "    result = pipeline.validate_query(query)\n",
        "    elapsed = (time.time() - start) * 1000\n",
        "    \n",
        "    total_time += elapsed\n",
        "    if result['success']:\n",
        "        successful_validations += 1\n",
        "    \n",
        "    status_icon = \"✅\" if result['success'] else \"❌\"\n",
        "    print(f\"{status_icon} {elapsed:.1f}ms - {query[:40]}... [{result['validation_method']}]\")\n",
        "\n",
        "print(f\"\\nStatistiques Validation:\")\n",
        "print(f\"Temps moyen: {total_time/len(test_queries_perf):.1f}ms\")\n",
        "print(f\"Taux succès: {successful_validations/len(test_queries_perf)*100:.0f}%\")\n",
        "print(f\"Objectif Vekta (<100ms): {'✓' if total_time/len(test_queries_perf) < 100 else '✗'}\")\n",
        "\n",
        "# Comparaison modes user vs coach\n",
        "print(f\"\\n=== COMPARAISON MODES ===\")\n",
        "test_query = \"20min tempo à 85%FTP\"\n",
        "\n",
        "user_result = pipeline.validate_query(test_query, coach_mode=False)\n",
        "coach_result = pipeline.validate_query(test_query, coach_mode=True)\n",
        "\n",
        "print(f\"Query: '{test_query}'\")\n",
        "print(f\"Mode User:  {user_result['confidence']:.0%} confiance - {user_result['validation_method']}\")\n",
        "print(f\"Mode Coach: {coach_result['confidence']:.0%} confiance - {coach_result['validation_method']}\")\n",
        "print(f\"Boost coach: +{(coach_result['confidence'] - user_result['confidence'])*100:.0f} points\")\n"
      ]
    },
    {
      "cell_type": "raw",
      "metadata": {
        "vscode": {
          "languageId": "raw"
        }
      },
      "source": [
        "## 7. Architecture Summary\n"
      ]
    },
    {
      "cell_type": "code",
      "execution_count": 16,
      "metadata": {},
      "outputs": [
        {
          "name": "stdout",
          "output_type": "stream",
          "text": [
            "=== ARCHITECTURE HYBRIDE VEKTA ===\n",
            "\n",
            "Pipeline Principal:\n",
            "  • Parseur Structurel: 90% - Extraction patterns numériques précis\n",
            "  • Corpus Enrichissement: 10% - Validation et complétion données\n",
            "  • Performance: <5ms parsing, <100ms total\n",
            "\n",
            "Logique Décision:\n",
            "  • Score ≥ 0.8: Génération directe (confiance 90%)\n",
            "  • Score 0.4-0.8: Enrichissement corpus (confiance 75%)\n",
            "  • Score < 0.4: Erreur avec suggestions spécifiques\n",
            "\n",
            "Mode Coach:\n",
            "  • Validation: Minimale (zero-validation physiologique)\n",
            "  • Confiance: 95% constante\n",
            "  • Acceptation: Séances aberrantes autorisées\n",
            "\n",
            "Différenciation vs RAG classique:\n",
            "  • RAG standard: Corpus principal + similarité vectorielle\n",
            "  • Architecture Vekta: Parsing structurel + corpus secondaire\n",
            "  • Avantage: Précision numérique + performance\n",
            "\n",
            "=== FIN DEMO ===\n",
            "Questions techniques bienvenues\n"
          ]
        }
      ],
      "source": [
        "# Résumé architecture pour entretien\n",
        "architecture_summary = {\n",
        "    \"Pipeline Principal\": {\n",
        "        \"Parseur Structurel\": \"90% - Extraction patterns numériques précis\",\n",
        "        \"Corpus Enrichissement\": \"10% - Validation et complétion données\",\n",
        "        \"Performance\": \"<5ms parsing, <100ms total\"\n",
        "    },\n",
        "    \n",
        "    \"Logique Décision\": {\n",
        "        \"Score ≥ 0.8\": \"Génération directe (confiance 90%)\",\n",
        "        \"Score 0.4-0.8\": \"Enrichissement corpus (confiance 75%)\", \n",
        "        \"Score < 0.4\": \"Erreur avec suggestions spécifiques\"\n",
        "    },\n",
        "    \n",
        "    \"Mode Coach\": {\n",
        "        \"Validation\": \"Minimale (zero-validation physiologique)\",\n",
        "        \"Confiance\": \"95% constante\",\n",
        "        \"Acceptation\": \"Séances aberrantes autorisées\"\n",
        "    },\n",
        "    \n",
        "    \"Différenciation vs RAG classique\": {\n",
        "        \"RAG standard\": \"Corpus principal + similarité vectorielle\",\n",
        "        \"Architecture Vekta\": \"Parsing structurel + corpus secondaire\",\n",
        "        \"Avantage\": \"Précision numérique + performance\"\n",
        "    }\n",
        "}\n",
        "\n",
        "print(\"=== ARCHITECTURE HYBRIDE VEKTA ===\")\n",
        "for section, details in architecture_summary.items():\n",
        "    print(f\"\\n{section}:\")\n",
        "    for key, value in details.items():\n",
        "        print(f\"  • {key}: {value}\")\n",
        "\n",
        "print(\"\\n=== FIN DEMO ===\")\n",
        "print(\"Questions techniques bienvenues\")\n"
      ]
    },
    {
      "cell_type": "raw",
      "metadata": {
        "vscode": {
          "languageId": "raw"
        }
      },
      "source": [
        "\n"
      ]
    },
    {
      "cell_type": "raw",
      "metadata": {
        "vscode": {
          "languageId": "raw"
        }
      },
      "source": [
        "\n"
      ]
    }
  ],
  "metadata": {
    "kernelspec": {
      "display_name": "Python 3",
      "language": "python",
      "name": "python3"
    },
    "language_info": {
      "codemirror_mode": {
        "name": "ipython",
        "version": 3
      },
      "file_extension": ".py",
      "mimetype": "text/x-python",
      "name": "python",
      "nbconvert_exporter": "python",
      "pygments_lexer": "ipython3",
      "version": "3.9.6"
    }
  },
  "nbformat": 4,
  "nbformat_minor": 2
}
